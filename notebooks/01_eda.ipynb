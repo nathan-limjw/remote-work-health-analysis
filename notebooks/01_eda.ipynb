{
 "cells": [
  {
   "cell_type": "markdown",
   "id": "760e37b4",
   "metadata": {},
   "source": [
    "# Remote Work Health Analysis"
   ]
  },
  {
   "cell_type": "markdown",
   "id": "20d19ccc",
   "metadata": {},
   "source": [
    "### 1. Project Introduction"
   ]
  },
  {
   "cell_type": "markdown",
   "id": "fa0c38c5",
   "metadata": {},
   "source": [
    "This Exploratory Data Analysis project seeks to uncover the relationship between an employee's work arrangement (Remote, Hybrid, Onsite) and their physical and mental health in a post-pandemic era.\n",
    "\n",
    "In order to simulate real-world data quality challenges, the dataset has been purposefully augmented to include more observations and to also include missing values, formatting issues as well as inconsistent values. This was done using the `src/create_messy_data.py` script. The original dataset from Kaggle can \n",
    "be found [here](https://www.kaggle.com/datasets/pratyushpuri/remote-work-health-impact-survey-2025/data).\n",
    "\n",
    "#### Analysis Focus:\n",
    "\n",
    "What are the trends for each work arrangement with respect to an employee's well being\n",
    "(Purpose: So that companies can reorganise their remote work policies for employee health and wellbeing\n",
    "so as to maximise their efficiency)\n",
    "\n",
    "- Summary Stats: Percentage of each type of Physical Health / Mental Health issues for each work arrangement\n",
    "- Summary Stats: Boxplot of their Scoring / Countplot of Burnout level\n",
    "- Seasonality: Trend over Time for Prevalence of Health Conditions / Average Scores\n",
    "- Dimensions: How it differs across age groups, gender, industry, region\n",
    "- Distribution: Which industries have the greatest potential for wellbeing improvement through work     arrangement changes\n",
    "\n",
    "#### Notebook Structure:\n",
    "\n"
   ]
  },
  {
   "cell_type": "code",
   "execution_count": 47,
   "id": "4246b2a7",
   "metadata": {},
   "outputs": [
    {
     "data": {
      "text/plain": [
       "\"\\nThis dataset represents survey data, where each record represents an employee's personal particulars, job\\ninformation, physical and mental health issues and their self-assigned scores to varying degrees of burn out,\\nwork-life balance and social isolation. \\n\\nThe most important columns are the job information columns (work arrangement, hours per week) and the scores\\ncolumns (burnout level, work life balance score, social isolation score). There are also a few other columns\\nthat would be useful in segmenting the data such as age, gender, region and industry. \\n\\nThe data spans from Jan 2025 to Jun 2025\\n\\n\\n# Dimensions:\\n- Age\\n- Month\\n- Gender\\n- Region\\n- Industry\\n- Work Arrangement\\n- Hours Per Week\\n- Salary Range\\n\\n# Measures:\\n\\nMental Health Status\\nBurnout Level\\nWork Life Balance score\\nPhysical Health\\nSocial Isolation Score\\n\""
      ]
     },
     "execution_count": 47,
     "metadata": {},
     "output_type": "execute_result"
    }
   ],
   "source": [
    "\"\"\"\n",
    "This dataset represents survey data, where each record represents an employee's personal particulars, job\n",
    "information, physical and mental health issues and their self-assigned scores to varying degrees of burn out,\n",
    "work-life balance and social isolation. \n",
    "\n",
    "The most important columns are the job information columns (work arrangement, hours per week) and the scores\n",
    "columns (burnout level, work life balance score, social isolation score). There are also a few other columns\n",
    "that would be useful in segmenting the data such as age, gender, region and industry. \n",
    "\n",
    "The data spans from Jan 2025 to Jun 2025\n",
    "\n",
    "\n",
    "# Dimensions:\n",
    "- Age\n",
    "- Month\n",
    "- Gender\n",
    "- Region\n",
    "- Industry\n",
    "- Work Arrangement\n",
    "- Hours Per Week\n",
    "- Salary Range\n",
    "\n",
    "# Measures:\n",
    "\n",
    "Mental Health Status\n",
    "Burnout Level\n",
    "Work Life Balance score\n",
    "Physical Health\n",
    "Social Isolation Score\n",
    "\"\"\""
   ]
  },
  {
   "cell_type": "markdown",
   "id": "c433c261",
   "metadata": {},
   "source": [
    "### 2. Importing Packages and Setup"
   ]
  },
  {
   "cell_type": "code",
   "execution_count": 48,
   "id": "ed20e947",
   "metadata": {},
   "outputs": [],
   "source": [
    "import numpy as np\n",
    "import pandas as pd\n",
    "import seaborn as sns\n",
    "import matplotlib.pyplot as plt\n",
    "import sys\n",
    "\n",
    "sys.path.append('..')\n",
    "from src import standardize_lower_case, clear_trailing_spaces, remove_characters, has_mental_health_concerns, impute_by_grouped_median\n",
    "\n",
    "sns.set_context(\"poster\")"
   ]
  },
  {
   "cell_type": "markdown",
   "id": "468686f0",
   "metadata": {},
   "source": [
    "### 3. Data Loading and Overview"
   ]
  },
  {
   "cell_type": "code",
   "execution_count": 49,
   "id": "6389f2b5",
   "metadata": {},
   "outputs": [
    {
     "data": {
      "text/html": [
       "<div>\n",
       "<style scoped>\n",
       "    .dataframe tbody tr th:only-of-type {\n",
       "        vertical-align: middle;\n",
       "    }\n",
       "\n",
       "    .dataframe tbody tr th {\n",
       "        vertical-align: top;\n",
       "    }\n",
       "\n",
       "    .dataframe thead th {\n",
       "        text-align: right;\n",
       "    }\n",
       "</style>\n",
       "<table border=\"1\" class=\"dataframe\">\n",
       "  <thead>\n",
       "    <tr style=\"text-align: right;\">\n",
       "      <th></th>\n",
       "      <th>Survey_Date</th>\n",
       "      <th>Age</th>\n",
       "      <th>Gender</th>\n",
       "      <th>Region</th>\n",
       "      <th>Industry</th>\n",
       "      <th>Job_Role</th>\n",
       "      <th>Work_Arrangement</th>\n",
       "      <th>Hours_Per_Week</th>\n",
       "      <th>Mental_Health_Status</th>\n",
       "      <th>Burnout_Level</th>\n",
       "      <th>Work_Life_Balance_Score</th>\n",
       "      <th>Physical_Health_Issues</th>\n",
       "      <th>Social_Isolation_Score</th>\n",
       "      <th>Salary_Range</th>\n",
       "    </tr>\n",
       "  </thead>\n",
       "  <tbody>\n",
       "    <tr>\n",
       "      <th>0</th>\n",
       "      <td>2025-06-01</td>\n",
       "      <td>27.0</td>\n",
       "      <td>Female</td>\n",
       "      <td>Asia</td>\n",
       "      <td>Professional Services</td>\n",
       "      <td>Data Analyst</td>\n",
       "      <td>Onsite</td>\n",
       "      <td>64.0</td>\n",
       "      <td>Stress Disorder</td>\n",
       "      <td>High\\n</td>\n",
       "      <td>3.0</td>\n",
       "      <td>Shoulder Pain; Neck Pain</td>\n",
       "      <td>Level 2.0</td>\n",
       "      <td>$40K-60K</td>\n",
       "    </tr>\n",
       "    <tr>\n",
       "      <th>1</th>\n",
       "      <td>2025-06-01</td>\n",
       "      <td>37.0</td>\n",
       "      <td>Female</td>\n",
       "      <td>Asia</td>\n",
       "      <td>Professional Services</td>\n",
       "      <td>Data Analyst</td>\n",
       "      <td>Onsite</td>\n",
       "      <td>37.0</td>\n",
       "      <td>NaN</td>\n",
       "      <td>High</td>\n",
       "      <td>NaN</td>\n",
       "      <td>Back Pain</td>\n",
       "      <td>2.0</td>\n",
       "      <td>$80K-100K</td>\n",
       "    </tr>\n",
       "    <tr>\n",
       "      <th>2</th>\n",
       "      <td>2025-06-01</td>\n",
       "      <td>90.0</td>\n",
       "      <td>Female</td>\n",
       "      <td>Africa</td>\n",
       "      <td>Education\\n</td>\n",
       "      <td>Business Analyst</td>\n",
       "      <td>Onsite</td>\n",
       "      <td>36.0</td>\n",
       "      <td>NaN</td>\n",
       "      <td>High</td>\n",
       "      <td>3.0</td>\n",
       "      <td>Shoulder Pain; Eye Strain</td>\n",
       "      <td>2.0</td>\n",
       "      <td>$80K-100K</td>\n",
       "    </tr>\n",
       "    <tr>\n",
       "      <th>3</th>\n",
       "      <td>2025-06-01</td>\n",
       "      <td>40.0</td>\n",
       "      <td>Female</td>\n",
       "      <td>Europe</td>\n",
       "      <td>Education</td>\n",
       "      <td>Data Analyst</td>\n",
       "      <td>Onsite</td>\n",
       "      <td>63.0</td>\n",
       "      <td>ADHD</td>\n",
       "      <td>Medium</td>\n",
       "      <td>1.0</td>\n",
       "      <td>Shoulder Pain; Eye Strain</td>\n",
       "      <td>2.0</td>\n",
       "      <td>$60K-80K</td>\n",
       "    </tr>\n",
       "    <tr>\n",
       "      <th>4</th>\n",
       "      <td>2025-06-01</td>\n",
       "      <td>30.0</td>\n",
       "      <td>Male\\n</td>\n",
       "      <td>South America</td>\n",
       "      <td>Manufacturing</td>\n",
       "      <td>DevOps Engineer</td>\n",
       "      <td>Hybrid</td>\n",
       "      <td>65.0</td>\n",
       "      <td>NaN</td>\n",
       "      <td>Medium</td>\n",
       "      <td>5.0</td>\n",
       "      <td>NaN</td>\n",
       "      <td>4.0</td>\n",
       "      <td>$60K-80K</td>\n",
       "    </tr>\n",
       "  </tbody>\n",
       "</table>\n",
       "</div>"
      ],
      "text/plain": [
       "  Survey_Date   Age   Gender         Region               Industry  \\\n",
       "0  2025-06-01  27.0   Female           Asia  Professional Services   \n",
       "1  2025-06-01  37.0   Female           Asia  Professional Services   \n",
       "2  2025-06-01  90.0   Female         Africa            Education\\n   \n",
       "3  2025-06-01  40.0   Female         Europe              Education   \n",
       "4  2025-06-01  30.0   Male\\n  South America          Manufacturing   \n",
       "\n",
       "           Job_Role Work_Arrangement Hours_Per_Week Mental_Health_Status  \\\n",
       "0      Data Analyst           Onsite           64.0      Stress Disorder   \n",
       "1      Data Analyst           Onsite           37.0                  NaN   \n",
       "2  Business Analyst           Onsite           36.0                  NaN   \n",
       "3      Data Analyst           Onsite           63.0                 ADHD   \n",
       "4   DevOps Engineer           Hybrid           65.0                  NaN   \n",
       "\n",
       "  Burnout_Level Work_Life_Balance_Score      Physical_Health_Issues  \\\n",
       "0        High\\n                     3.0    Shoulder Pain; Neck Pain   \n",
       "1          High                     NaN                   Back Pain   \n",
       "2         High                      3.0   Shoulder Pain; Eye Strain   \n",
       "3        Medium                     1.0  Shoulder Pain; Eye Strain    \n",
       "4        Medium                     5.0                         NaN   \n",
       "\n",
       "  Social_Isolation_Score Salary_Range  \n",
       "0              Level 2.0     $40K-60K  \n",
       "1                    2.0    $80K-100K  \n",
       "2                    2.0    $80K-100K  \n",
       "3                    2.0     $60K-80K  \n",
       "4                    4.0     $60K-80K  "
      ]
     },
     "execution_count": 49,
     "metadata": {},
     "output_type": "execute_result"
    }
   ],
   "source": [
    "# Loading the raw augmented dataset\n",
    "df_raw = pd.read_csv(\"../data/remote_work_health_dataset_augmented_raw.csv\")\n",
    "# df_raw = pd.read_csv(\"../data/post_pandemic_remote_work_health_impact_2025_raw.csv\")\n",
    "\n",
    "df_raw.head()"
   ]
  },
  {
   "cell_type": "code",
   "execution_count": 50,
   "id": "03362536",
   "metadata": {},
   "outputs": [
    {
     "name": "stdout",
     "output_type": "stream",
     "text": [
      "<class 'pandas.core.frame.DataFrame'>\n",
      "RangeIndex: 5150 entries, 0 to 5149\n",
      "Data columns (total 14 columns):\n",
      " #   Column                   Non-Null Count  Dtype \n",
      "---  ------                   --------------  ----- \n",
      " 0   Survey_Date              5150 non-null   object\n",
      " 1   Age                      4889 non-null   object\n",
      " 2   Gender                   5150 non-null   object\n",
      " 3   Region                   5150 non-null   object\n",
      " 4   Industry                 5150 non-null   object\n",
      " 5   Job_Role                 5150 non-null   object\n",
      " 6   Work_Arrangement         5150 non-null   object\n",
      " 7   Hours_Per_Week           4845 non-null   object\n",
      " 8   Mental_Health_Status     3691 non-null   object\n",
      " 9   Burnout_Level            4894 non-null   object\n",
      " 10  Work_Life_Balance_Score  4550 non-null   object\n",
      " 11  Physical_Health_Issues   4394 non-null   object\n",
      " 12  Social_Isolation_Score   4742 non-null   object\n",
      " 13  Salary_Range             5150 non-null   object\n",
      "dtypes: object(14)\n",
      "memory usage: 563.4+ KB\n"
     ]
    }
   ],
   "source": [
    "df_raw.info()"
   ]
  },
  {
   "cell_type": "code",
   "execution_count": 51,
   "id": "93ea2efc",
   "metadata": {},
   "outputs": [
    {
     "data": {
      "text/html": [
       "<div>\n",
       "<style scoped>\n",
       "    .dataframe tbody tr th:only-of-type {\n",
       "        vertical-align: middle;\n",
       "    }\n",
       "\n",
       "    .dataframe tbody tr th {\n",
       "        vertical-align: top;\n",
       "    }\n",
       "\n",
       "    .dataframe thead th {\n",
       "        text-align: right;\n",
       "    }\n",
       "</style>\n",
       "<table border=\"1\" class=\"dataframe\">\n",
       "  <thead>\n",
       "    <tr style=\"text-align: right;\">\n",
       "      <th></th>\n",
       "      <th>Survey_Date</th>\n",
       "      <th>Age</th>\n",
       "      <th>Gender</th>\n",
       "      <th>Region</th>\n",
       "      <th>Industry</th>\n",
       "      <th>Job_Role</th>\n",
       "      <th>Work_Arrangement</th>\n",
       "      <th>Hours_Per_Week</th>\n",
       "      <th>Mental_Health_Status</th>\n",
       "      <th>Burnout_Level</th>\n",
       "      <th>Work_Life_Balance_Score</th>\n",
       "      <th>Physical_Health_Issues</th>\n",
       "      <th>Social_Isolation_Score</th>\n",
       "      <th>Salary_Range</th>\n",
       "    </tr>\n",
       "  </thead>\n",
       "  <tbody>\n",
       "    <tr>\n",
       "      <th>count</th>\n",
       "      <td>5150</td>\n",
       "      <td>4889</td>\n",
       "      <td>5150</td>\n",
       "      <td>5150</td>\n",
       "      <td>5150</td>\n",
       "      <td>5150</td>\n",
       "      <td>5150</td>\n",
       "      <td>4845</td>\n",
       "      <td>3691</td>\n",
       "      <td>4894</td>\n",
       "      <td>4550</td>\n",
       "      <td>4394</td>\n",
       "      <td>4742</td>\n",
       "      <td>5150</td>\n",
       "    </tr>\n",
       "    <tr>\n",
       "      <th>unique</th>\n",
       "      <td>180</td>\n",
       "      <td>139</td>\n",
       "      <td>72</td>\n",
       "      <td>47</td>\n",
       "      <td>136</td>\n",
       "      <td>157</td>\n",
       "      <td>78</td>\n",
       "      <td>121</td>\n",
       "      <td>87</td>\n",
       "      <td>53</td>\n",
       "      <td>66</td>\n",
       "      <td>158</td>\n",
       "      <td>59</td>\n",
       "      <td>67</td>\n",
       "    </tr>\n",
       "    <tr>\n",
       "      <th>top</th>\n",
       "      <td>2025-06-16</td>\n",
       "      <td>30.0</td>\n",
       "      <td>Female</td>\n",
       "      <td>North America</td>\n",
       "      <td>Technology</td>\n",
       "      <td>HR Manager</td>\n",
       "      <td>Onsite</td>\n",
       "      <td>35.0</td>\n",
       "      <td>Good</td>\n",
       "      <td>Medium</td>\n",
       "      <td>3.0</td>\n",
       "      <td>Back Pain</td>\n",
       "      <td>3.0</td>\n",
       "      <td>$60K-80K</td>\n",
       "    </tr>\n",
       "    <tr>\n",
       "      <th>freq</th>\n",
       "      <td>154</td>\n",
       "      <td>136</td>\n",
       "      <td>2071</td>\n",
       "      <td>972</td>\n",
       "      <td>800</td>\n",
       "      <td>280</td>\n",
       "      <td>1437</td>\n",
       "      <td>187</td>\n",
       "      <td>467</td>\n",
       "      <td>1262</td>\n",
       "      <td>1079</td>\n",
       "      <td>607</td>\n",
       "      <td>1019</td>\n",
       "      <td>933</td>\n",
       "    </tr>\n",
       "  </tbody>\n",
       "</table>\n",
       "</div>"
      ],
      "text/plain": [
       "       Survey_Date   Age  Gender         Region    Industry    Job_Role  \\\n",
       "count         5150  4889    5150           5150        5150        5150   \n",
       "unique         180   139      72             47         136         157   \n",
       "top     2025-06-16  30.0  Female  North America  Technology  HR Manager   \n",
       "freq           154   136    2071            972         800         280   \n",
       "\n",
       "       Work_Arrangement Hours_Per_Week Mental_Health_Status Burnout_Level  \\\n",
       "count              5150           4845                 3691          4894   \n",
       "unique               78            121                   87            53   \n",
       "top              Onsite           35.0                 Good        Medium   \n",
       "freq               1437            187                  467          1262   \n",
       "\n",
       "       Work_Life_Balance_Score Physical_Health_Issues Social_Isolation_Score  \\\n",
       "count                     4550                   4394                   4742   \n",
       "unique                      66                    158                     59   \n",
       "top                        3.0              Back Pain                    3.0   \n",
       "freq                      1079                    607                   1019   \n",
       "\n",
       "       Salary_Range  \n",
       "count          5150  \n",
       "unique           67  \n",
       "top        $60K-80K  \n",
       "freq            933  "
      ]
     },
     "execution_count": 51,
     "metadata": {},
     "output_type": "execute_result"
    }
   ],
   "source": [
    "df_raw.describe() # Not much significance as columns are of the \"object\" type"
   ]
  },
  {
   "cell_type": "code",
   "execution_count": 52,
   "id": "bb226a48",
   "metadata": {},
   "outputs": [
    {
     "data": {
      "text/plain": [
       "(5150, 14)"
      ]
     },
     "execution_count": 52,
     "metadata": {},
     "output_type": "execute_result"
    }
   ],
   "source": [
    "df_raw.shape"
   ]
  },
  {
   "cell_type": "markdown",
   "id": "ffba7257",
   "metadata": {},
   "source": [
    "### 4. Data Quality Assessment"
   ]
  },
  {
   "cell_type": "code",
   "execution_count": 53,
   "id": "bde8256a",
   "metadata": {},
   "outputs": [
    {
     "name": "stdout",
     "output_type": "stream",
     "text": [
      "                         Missing_Count  Missing_Proportion\n",
      "Mental_Health_Status              1459           28.330097\n",
      "Physical_Health_Issues             756           14.679612\n",
      "Work_Life_Balance_Score            600           11.650485\n",
      "Social_Isolation_Score             408            7.922330\n",
      "Hours_Per_Week                     305            5.922330\n",
      "Age                                261            5.067961\n",
      "Burnout_Level                      256            4.970874\n",
      "Survey_Date                          0            0.000000\n",
      "Gender                               0            0.000000\n",
      "Region                               0            0.000000\n",
      "Industry                             0            0.000000\n",
      "Job_Role                             0            0.000000\n",
      "Work_Arrangement                     0            0.000000\n",
      "Salary_Range                         0            0.000000\n"
     ]
    }
   ],
   "source": [
    "# Assessing Missing Values\n",
    "\n",
    "prop_missing_vals = pd.DataFrame({\n",
    "    \"Missing_Count\" : df_raw.isnull().sum(),\n",
    "    \"Missing_Proportion\" : (df_raw.isnull().sum() / len(df_raw)) * 100\n",
    "}).sort_values(\"Missing_Proportion\", ascending= False)\n",
    "\n",
    "print(prop_missing_vals)"
   ]
  },
  {
   "cell_type": "markdown",
   "id": "62ca0f17",
   "metadata": {},
   "source": [
    "### Missing Data Analysis\n",
    "\n",
    "**Mental_Health_Status** : 28.3% missing values (1459 records)\n",
    "- This is likely caused by the respondees privacy when it comes to disclosing their personal mental health issues. However, it is also worth considering that some of those surveyed may not have a diagnosis for mental health issues and do not have any ongoing health concerns to report.\n",
    "\n",
    "**Physical_Health_Status** : 14.7% missing values (756 records)\n",
    "- Similarly, this might be due to the respondees privacy in their unwillingness to share their physical health history. Alternatively, they may not be experiencing any physical health issues and have no data to report. \n",
    "\n",
    "**Work_Life_Balance_Score** : 11.7 % missing values (600 records)\n",
    "- Likely due to sensitive work-personal boundary topic. This would lead to a bias to respondees who have shared their work life balance scores.\n",
    "\n",
    "The other columns have less than 10% of missing values and are still viable for Exploratory Data Analysis"
   ]
  },
  {
   "cell_type": "code",
   "execution_count": 54,
   "id": "3a4f3b7f",
   "metadata": {},
   "outputs": [
    {
     "name": "stdout",
     "output_type": "stream",
     "text": [
      "['27.0' '37.0' '90.0' '40.0' '30.0' '52.0' '50.0' '63.0' '42.0' '64.0' nan\n",
      " '36.0' '57.0' '26.0' '55.0' '59.0' '23.0' '22.0' '25.0' '85.0' '47.0'\n",
      " '39.0' '62.0' '29.0' '31.0' '33.0' '50.0.00' '65.0' '58.0' '51.0' '41.0'\n",
      " '44.0' '53.0' '48.0' '49.0' '56.0' '28.0' '60.0' '43.0' '38.0' '46.0'\n",
      " '45.0' '24.0' '61.0' '32.0' '35.0' 'Age 40.0' '34.0' '43.0.0' '16.0'\n",
      " '54.0' '62.0pts' '35.0+' ' 50.0 ' '17.0' 'Age 37.0' '46.0.00' '25.0.0'\n",
      " '62.0.0' '59.0.00' ' 42.0 ' '55.0pts' '54.0.0' '(45.0)' '38.0pts'\n",
      " '50.0.0' '150.0' '57.0.00' '54.0pts' '53.0pts' '41.0pts' 'Age 41.0'\n",
      " '47.0pts' '1995.0' ' 46.0 ' 'Age 29.0' '23.0.00' '0.0' 'Age 39.0'\n",
      " '(27.0)' '37.0.00' ' 38.0 ' '85.0.00' ' 56.0 ' '24.0.0' '48.0.0'\n",
      " '43.0pts' 'Age 35.0' ' 58.0 ' '48.0+' 'Age 23.0' '52.0pts' ' 40.0 '\n",
      " '15.0' '60.0.00' '27.0pts' '34.0+' ' 41.0 ' '(55.0)' '34.0.0' '37.0pts'\n",
      " ' 35.0 ' ' 39.0 ' '45.0+' '47.0.0' ' 53.0 ' '27.0.0' '29.0.00' 'Age 16.0'\n",
      " '(40.0)' '35.0.0' '49.0pts' ' 34.0 ' ' 63.0 ' '(31.0)' 'Age 43.0'\n",
      " ' 60.0 ' 'Age 30.0' '56.0+' '33.0.00' 'Age 38.0' '(52.0)' '(62.0)'\n",
      " '(54.0)' 'Age 44.0' '32.0.0' '46.0pts' '31.0.0' '26.0.0' '(41.0)' '33.0+'\n",
      " '52.0.0' '28.0.00' '34.0.00' '32.0pts' '33.0pts' ' 28.0 ' '(23.0)'\n",
      " '(28.0)' '(34.0)']\n",
      "\n",
      "\n",
      "['Onsite' 'Hybrid' ' Onsite' 'Remote' ' Remote' 'Hybrid ' 'remote'\n",
      " 'REMOTE' 'Onsite\\n' 'Remote\\n' '\\tHybrid' 'hybrid' ' Hybrid' 'Flexible'\n",
      " '  Hybrid ' 'Remote Work' 'Remote ' '\\tRemote' 'HYBRID' '  Hybrid'\n",
      " 'Mixed' 'Hybrid\\n' 'Onsite ' 'Hybrid  ' '\\tOnsite' '  Hybrid  '\n",
      " '  Onsite  ' '  Remote' '  Remote  ' 'Hybrid Work ' 'WFH'\n",
      " 'Work from Home' ' REMOTE' ' hybrid' '  Hybrid\\n' 'Flexible '\n",
      " 'Hybrid Work' 'hybrid\\n' 'HYBRID ' '\\thybrid' '\\t  Hybrid' '\\tWFH'\n",
      " '  REMOTE  ' '  Remote\\n' 'WFH\\n' 'hybrid ' ' Hybrid Work' 'Remote Work '\n",
      " ' HYBRID' '  Hybrid   ' 'Office' 'Office\\n' 'On-site' '\\t  Remote'\n",
      " 'OFFICE' '  Office' '    Office  ' 'Office Work' 'Office ' ' Office'\n",
      " '  OFFICE  ' '  Remote Work  ' 'office' 'OFFICE\\n' '  In-person  '\n",
      " '    Hybrid  ' 'In-person' 'Office  ' '\\tOFFICE' '  Office  '\n",
      " '  Hybrid Work  ' '\\tOffice' '\\tOffice Work' ' Remote Work' ' OFFICE'\n",
      " 'On-site\\n' 'HYBRID\\n' 'Mixed\\n']\n",
      "\n",
      "\n",
      "['Level 2.0' '2.0' '4.0' '3.0' '1.0' '5.0' '15.0' '0.0' '4.0.00' nan\n",
      " '11.0' ' 2.0 ' '1.0pts' '(3.0)' '3.0+' '99.0' '1.0+' '12.0' '-1.0'\n",
      " '3.0pts' ' 1.0 ' 'Level 3.0' '5.0+' '5.0pts' '2.0.00' '(1.0)' 'Level 5.0'\n",
      " '2.0.0' ' 3.0 ' '-1.0.0' '3.0.0' '1.0.0' '4.0.0' '3.0.00' ' 4.0 '\n",
      " '5.0.00' '2.0pts' '(2.0)' '1.0.00' '10.0' '6.0' '8.0' '9.0' '7.0' '(4.0)'\n",
      " ' 7.0 ' '2.0+' 'Level 4.0' '(5.0)' ' 8.0 ' 'Level 6.0' '4.0+' '6.0+'\n",
      " '4.0pts' ' 5.0 ' '10.0.00' ' 9.0 ' '7.0.0' '8.0.0' '7.0pts']\n",
      "\n",
      "\n",
      "['$40K-60K' '$80K-100K' '$60K-80K' '$100K-120K' ' $60K-80K' '$120K+'\n",
      " '$40K-60K ' ' $80K-100K' '$40K-60K\\n' '$100K-120K ' '$60K-80K '\n",
      " '$100K-120K\\n' '\\t$40K-60K' '\\t$60K-80K' '$60K-80K\\n' '\\t$80K-100K'\n",
      " '$80K-100K ' '  $60K-80K  ' '$120K+\\n' '  $100K-120K  ' '  $80K-100K  '\n",
      " '$120K+ ' ' $40K-60K' ' $100K-120K' '$80K-100K\\n' ' $120K+'\n",
      " '  $40K-60K  ' '\\t$120K+' '\\t$100K-120K' '  $120K+  ' '$100k-$150k'\n",
      " '$70k-$100k' '$50k-$70k' '$30k-$50k' '$150k-$200k' '$200k+' '$70k-$100k '\n",
      " '  $30k-$50k  ' '$30k-$50k ' '$100k-$150k ' ' $100k-$150k'\n",
      " '\\t$100k-$150k' ' $200k+' '\\t$70k-$100k' 'Under $30k' ' $50k-$70k'\n",
      " '  $50k-$70k  ' '\\t$50k-$70k' '$50k-$70k ' '$70k-$100k\\n' ' $30k-$50k'\n",
      " ' $150k-$200k' '$50k-$70k\\n' '  $70k-$100k  ' '\\t$30k-$50k'\n",
      " '$100k-$150k\\n' ' $70k-$100k' '\\t$150k-$200k' '$150k-$200k\\n'\n",
      " '  $150k-$200k  ' '\\t$200k+' '  $200k+  ' 'Under $30k ' '$30k-$50k\\n'\n",
      " '  $100k-$150k  ' '  Under $30k  ' '$200k+\\n']\n"
     ]
    }
   ],
   "source": [
    "# Assessing Invalid Data & Formatting Inconsistencies\n",
    "\n",
    "print(df_raw[\"Age\"].unique())\n",
    "print(\"\\n\")\n",
    "print(df_raw[\"Work_Arrangement\"].unique())\n",
    "print(\"\\n\")\n",
    "print(df_raw[\"Social_Isolation_Score\"].unique())\n",
    "print(\"\\n\")\n",
    "print(df_raw[\"Salary_Range\"].unique())\n"
   ]
  },
  {
   "cell_type": "markdown",
   "id": "3cf3fbc1",
   "metadata": {},
   "source": [
    "### Data Formatting and Consistency Analysis\n",
    "\n",
    "Investigation of the key data fields raises multiple issues with the data collected, which needs to be addressed during the data cleaning stage. \n",
    "\n",
    "**Trailing Spaces**: Columns have trailing whitespaces in their values as indicated by  `' '` as well as `\\n` and `\\t`.\n",
    "\n",
    "**Capitalisation Inconsistency**: In particular, categorical columns have similar entries with inconsistent capitalisation: lower case, upper case, and both.\n",
    "\n",
    "**Text Format Inconsistency**: Columns have unnecessary characters in their records such as \"pts\", \"+\" and \"Age\" in the `Age` column, which do not add any value to the analysis. Numeric columns have redundant decimal points in their values as well.\n",
    "\n",
    "**Invalid Values**: Columns have invalid values that do not fall into the categories assigned, such as \"Mixed\" and \"Flexible\" in the `Work_Arrangement` column, which can only accept categories such as \"Onsite\", \"Remote\" or \"Hybrid\". Another class of invalid values are values that fall out of scale such as records that are greater than 5 in the `Social_Isolation_Score` column, or impossible values like \"0.0\" and \"1995\" in the `Age` column.\n",
    "\n",
    "**Inconsistent Columns**: The `Salary_Range` column contains heavily overlapping and inconsistently defined salary brackets (\"$40K-$60K\" and \"$50K-$70K\"). Due to the ambiguity and challenge of standardising these ranges without introducing assumptions, this column was excluded from further analysis.\n",
    "\n",
    "\n",
    "**Improper Column Type**: All columns belong to the `object` class and need to be typecasted to their respective classes for proper analysis.\n"
   ]
  },
  {
   "cell_type": "code",
   "execution_count": 55,
   "id": "ad8e02a9",
   "metadata": {},
   "outputs": [
    {
     "name": "stdout",
     "output_type": "stream",
     "text": [
      "19\n",
      "0.36893203883495146\n"
     ]
    }
   ],
   "source": [
    "# Checking for Duplicate Values\n",
    "#print(df_raw[df_raw.duplicated()]\n",
    "#print(\"\\n\")\n",
    "\n",
    "# Counting Number and Proportion of Duplicate Values\n",
    "print(df_raw.duplicated().sum())\n",
    "print(df_raw.duplicated().sum() / len(df_raw) * 100)"
   ]
  },
  {
   "cell_type": "markdown",
   "id": "e3b5fc23",
   "metadata": {},
   "source": [
    "### Duplicate Record Analysis\n",
    "\n",
    "Analysis of duplicate values found 19 entries in the entire dataset, which was likely due to survey adminstration errors. However, this would not have a significant impact on the analysis as these duplicate entries only account for 0.37% of the entire dataset."
   ]
  },
  {
   "cell_type": "markdown",
   "id": "54cfd2f1",
   "metadata": {},
   "source": [
    "### 5. Data Cleaning"
   ]
  },
  {
   "cell_type": "markdown",
   "id": "7e1fdb14",
   "metadata": {},
   "source": [
    "### Addressing Duplicate Values"
   ]
  },
  {
   "cell_type": "code",
   "execution_count": 56,
   "id": "95423777",
   "metadata": {},
   "outputs": [],
   "source": [
    "# Creating a copy of the df\n",
    "df_clean = df_raw.copy()\n",
    "\n",
    "df_clean.drop_duplicates(inplace= True)"
   ]
  },
  {
   "cell_type": "markdown",
   "id": "5fdeeb37",
   "metadata": {},
   "source": [
    "As aforementioned, these duplicate entries are likely due to survey errors and are real duplicated values. Since this survey was performed on a global scale, it is highly unlikely that there are multiple individuals with the exact same personal particulars, with similar job information and scoring the metrics and presenting the same health issues. These duplicates serve no statistical significance in the analysis and can be dropped as they only constitute 0.37% of the dataset."
   ]
  },
  {
   "cell_type": "markdown",
   "id": "b4acfc88",
   "metadata": {},
   "source": [
    "### Addressing Spacing and Capitalisation Inconsistency"
   ]
  },
  {
   "cell_type": "code",
   "execution_count": 57,
   "id": "9d83cf4d",
   "metadata": {},
   "outputs": [],
   "source": [
    "df_clean = standardize_lower_case(df_clean)\n",
    "df_clean = clear_trailing_spaces(df_clean)"
   ]
  },
  {
   "cell_type": "markdown",
   "id": "09ee90a3",
   "metadata": {},
   "source": [
    "### Addressing Text Format Inconsistencies and Invalid Values"
   ]
  },
  {
   "cell_type": "markdown",
   "id": "df5c712a",
   "metadata": {},
   "source": [
    "#### Date Columns"
   ]
  },
  {
   "cell_type": "code",
   "execution_count": 58,
   "id": "0b3a07c6",
   "metadata": {},
   "outputs": [],
   "source": [
    "# Formatting Date_Surveyed Column\n",
    "#df_clean[\"Survey_Date\"].unique()\n",
    "\n",
    "df_clean = remove_characters(df_clean, \"Survey_Date\", \" 00:00:00\")\n",
    "df_clean[\"Survey_Date\"] = pd.to_datetime(df_clean[\"Survey_Date\"])"
   ]
  },
  {
   "cell_type": "markdown",
   "id": "e26f2417",
   "metadata": {},
   "source": [
    "Timestamp values \" 00:00:00\" were removed from each entry in the `Surveyed_Date` column as the only relevant component was the date component, not the time of day."
   ]
  },
  {
   "cell_type": "markdown",
   "id": "831acb7f",
   "metadata": {},
   "source": [
    "#### Numeric Columns"
   ]
  },
  {
   "cell_type": "code",
   "execution_count": 59,
   "id": "0465503e",
   "metadata": {},
   "outputs": [],
   "source": [
    "# Cleaning Age Column\n",
    "#df_clean[\"Age\"].unique()\n",
    "\n",
    "df_clean = remove_characters(df_clean, \"Age\", \"pts\", \"age \", \"+\", \"(\", \")\")\n",
    "df_clean[\"Age\"] = df_clean[\"Age\"].str.replace(r\"\\.0.00$\", \"\", regex=True)\n",
    "df_clean[\"Age\"] = df_clean[\"Age\"].str.replace(r\"\\.0.0$\", \"\", regex=True)\n",
    "\n",
    "df_clean[\"Age\"] = pd.to_numeric(df_clean[\"Age\"], errors=\"coerce\")\n",
    "df_clean.loc[(df_clean[\"Age\"] < 18) | (df_clean[\"Age\"] > 100), \"Age\"] = np.nan"
   ]
  },
  {
   "cell_type": "code",
   "execution_count": 60,
   "id": "7024c052",
   "metadata": {},
   "outputs": [],
   "source": [
    "# Cleaning Hours_Per_Week Column\n",
    "#df_clean[\"Hours_Per_Week\"].unique()\n",
    "\n",
    "df_clean = remove_characters(df_clean, \"Hours_Per_Week\", \"hrs\", \"+\", \"(\", \")\")\n",
    "df_clean[\"Hours_Per_Week\"] = df_clean[\"Hours_Per_Week\"].str.replace(r\"\\.0.00$\", \"\", regex=True)\n",
    "df_clean[\"Hours_Per_Week\"] = df_clean[\"Hours_Per_Week\"].str.replace(r\"\\.0.0$\", \"\", regex=True)\n",
    "\n",
    "df_clean[\"Hours_Per_Week\"] = pd.to_numeric(df_clean[\"Hours_Per_Week\"], errors = \"coerce\")\n",
    "df_clean.loc[(df_clean[\"Hours_Per_Week\"] < 10) | (df_clean[\"Hours_Per_Week\"] > 168), \"Hours_Per_Week\"]  = np.nan"
   ]
  },
  {
   "cell_type": "code",
   "execution_count": 61,
   "id": "56420790",
   "metadata": {},
   "outputs": [],
   "source": [
    "# Cleaning Work_Life_Balance_Score Column\n",
    "#df_clean[\"Work_Life_Balance_Score\"].unique()\n",
    "\n",
    "df_clean = remove_characters(df_clean, \"Work_Life_Balance_Score\", \"pts\", \"-\", \"(\", \")\", \"+\", \"level \")\n",
    "df_clean[\"Work_Life_Balance_Score\"] = df_clean[\"Work_Life_Balance_Score\"].str.replace(r\"\\.0.0$\", \"\", regex=True)\n",
    "df_clean[\"Work_Life_Balance_Score\"] = df_clean[\"Work_Life_Balance_Score\"].str.replace(r\"\\.0.00$\", \"\", regex=True)\n",
    "\n",
    "df_clean[\"Work_Life_Balance_Score\"] = pd.to_numeric(df_clean[\"Work_Life_Balance_Score\"], errors = \"coerce\")\n",
    "df_clean.loc[(df_clean[\"Work_Life_Balance_Score\"] < 1) | (df_clean[\"Work_Life_Balance_Score\"] > 5), \n",
    "             \"Work_Life_Balance_Score\"]  = np.nan"
   ]
  },
  {
   "cell_type": "code",
   "execution_count": 62,
   "id": "263c6372",
   "metadata": {},
   "outputs": [],
   "source": [
    "# Cleaning Social_Isolation_Score Column\n",
    "#df_clean[\"Social_Isolation_Score\"].unique()\n",
    "\n",
    "df_clean = remove_characters(df_clean, \"Social_Isolation_Score\", \"pts\", \"-\", \"(\", \")\", \"+\", \"level \")\n",
    "df_clean[\"Social_Isolation_Score\"] = df_clean[\"Social_Isolation_Score\"].str.replace(r\"\\.0.0$\", \"\", regex=True)\n",
    "df_clean[\"Social_Isolation_Score\"] = df_clean[\"Social_Isolation_Score\"].str.replace(r\"\\.0.00$\", \"\", regex=True)\n",
    "\n",
    "df_clean[\"Social_Isolation_Score\"] = pd.to_numeric(df_clean[\"Social_Isolation_Score\"], errors = \"coerce\")\n",
    "df_clean.loc[(df_clean[\"Social_Isolation_Score\"] < 1) | (df_clean[\"Social_Isolation_Score\"] > 5), \n",
    "             \"Social_Isolation_Score\"]  = np.nan"
   ]
  },
  {
   "cell_type": "markdown",
   "id": "e9ee96ad",
   "metadata": {},
   "source": [
    "The numeric columns contained inconsistent formatting and extraneous characters that need to be cleaned to allow for proper typecasting and analysis. These included removing irrelevant descriptors such as: \"pts\", \"age\", \"hrs\", and \"level\" as well as special characters like mathematical operators and parentheses. Redundant decimal formats like \".0.0\" and \".0.00\" were removed to ensure they can be accurately converted into numeric types. Thereafter, invalid values in each column were converted to NaN based on the following criteria:\n",
    "\n",
    "**Age**: Ages below 18 and above 100 are unrealistic ages which likely represent data entry errors.\n",
    "\n",
    "**Hours_Per_Week**: Less than 10 hours per week is not representative of full time employment, and values exceeding 168 hours are not possible with only 168 hours a week.\n",
    "\n",
    "**Work_Life_Balance_Score**: Score values can only take values between 1 and 5 (inclusive).\n",
    "\n",
    "**Social_Isolation_Score**: Score values can only take values between 1 and 5 (inclusive)."
   ]
  },
  {
   "cell_type": "markdown",
   "id": "bc163a6d",
   "metadata": {},
   "source": [
    "#### Categorical Columns"
   ]
  },
  {
   "cell_type": "code",
   "execution_count": 63,
   "id": "d8e82205",
   "metadata": {},
   "outputs": [],
   "source": [
    "# Cleaning Gender Column\n",
    "#df_clean[\"Gender\"].unique()\n",
    "\n",
    "gender_mapping = {\n",
    "    \n",
    "    \"female\": \"female\",\n",
    "    \"woman\": \"female\",\n",
    "    \"f\": \"female\",\n",
    "\n",
    "    \"male\": \"male\",\n",
    "    \"man\": \"male\",\n",
    "    \"m\": \"male\",\n",
    "\n",
    "    \"other\": \"other\",\n",
    "    \"prefer not to say\": \"other\",\n",
    "\n",
    "    \"non-binary\": \"non-binary\"\n",
    "}\n",
    "\n",
    "df_clean[\"Gender\"] = df_clean[\"Gender\"].replace(gender_mapping)\n",
    "df_clean[\"Gender\"] = df_clean[\"Gender\"].astype(\"category\")"
   ]
  },
  {
   "cell_type": "code",
   "execution_count": 64,
   "id": "8ccdce2a",
   "metadata": {},
   "outputs": [],
   "source": [
    "# Cleaning Work_Arrangement Column\n",
    "# df_clean[\"Work_Arrangement\"].unique()\n",
    "\n",
    "arrangement_mapping ={\n",
    "\n",
    "    \"onsite\": \"onsite\",\n",
    "    \"office\": \"onsite\",\n",
    "    \"on-site\": \"onsite\",\n",
    "    \"office work\": \"onsite\",\n",
    "    \"in-person\": \"onsite\",\n",
    "\n",
    "    \"hybrid\": \"hybrid\",\n",
    "    \"mixed\": \"hybrid\",\n",
    "    \"hybrid work\": \"hybrid\",\n",
    "\n",
    "    \"remote\": \"remote\",\n",
    "    \"remote work\": \"remote\",\n",
    "    \"wfh\": \"remote\",\n",
    "    \"work from home\": \"remote\",\n",
    "\n",
    "    \"flexible\": \"flexible\"\n",
    "\n",
    "}\n",
    "\n",
    "df_clean[\"Work_Arrangement\"] = df_clean[\"Work_Arrangement\"].replace(arrangement_mapping)\n",
    "df_clean[\"Work_Arrangement\"] = df_clean[\"Work_Arrangement\"].astype(\"category\")"
   ]
  },
  {
   "cell_type": "code",
   "execution_count": 65,
   "id": "ae458277",
   "metadata": {},
   "outputs": [],
   "source": [
    "# Cleaning Burnout_Level\n",
    "# df_clean[\"Work_Arrangement\"].unique()\n",
    "\n",
    "burnout_mapping = {\n",
    "\n",
    "    \"low\": \"low\",\n",
    "    \"lo\": \"low\",\n",
    "    \"lw\": \"low\",\n",
    "    \"non\": \"low\",\n",
    "    \"none\": \"low\",\n",
    "    \"nil\": \"low\",\n",
    "\n",
    "    \"medium\": \"medium\",\n",
    "    \"moderate\": \"medium\",\n",
    "    \"moderat\": \"medium\",\n",
    "    \"moderete\": \"medium\",\n",
    "\n",
    "    \"high\": \"high\",\n",
    "    \"hgh\": \"high\",\n",
    "    \"hi\": \"high\",\n",
    "    \"very high\": \"high\",\n",
    "    \"veryhigh\": \"high\"\n",
    "}\n",
    "\n",
    "df_clean[\"Burnout_Level\"] = df_clean[\"Burnout_Level\"].replace(burnout_mapping)\n",
    "df_clean[\"Burnout_Level\"] = df_clean[\"Burnout_Level\"].astype(\"category\")"
   ]
  },
  {
   "cell_type": "markdown",
   "id": "886f9ece",
   "metadata": {},
   "source": [
    "To ensure consistency across categorical variables, inconsistent entries were cleaned by mapping similar values into standardized categories. Entries with spelling inconsistencies and shorthand notations were mapped to their correct forms. This process helps simplify analysis and prevent fragmentation of categories during aggregation and visualisation.\n",
    "\n",
    "**Gender**: Entries such as \"woman\" and \"f\" were mapped to \"female\", while \"man\" and \"m\" were mapped to \"male\". The \"prefer not to say\" category was grouped under \"other\" to reduce sparsity. The \"non-binary\" category was preserved as a distinct group to maintain inclusivity.\n",
    "\n",
    "**Work_Arrangement**: Terms related to office-based and in-person work were standardized to \"onsite\", while remote-related terms were mapped to \"remote\". Hybrid setups were unified under \"hybrid\". The \"flexible\" category was retained as a separate value, as it may provide unique insights despite not fitting neatly into the standard arrangements.\n",
    "\n",
    "**Burnout_Level**: Responses which indicated the absence of burnout such as \"nil\" and \"none\" were grouped under the \"low\" category under the assumption that they indicate minimal to no signs of burnout. References to elevated levels of burnout such as \"veryhigh\" were grouped under \"high\" to simplify the distribution.  "
   ]
  },
  {
   "cell_type": "code",
   "execution_count": 66,
   "id": "96afdfb5",
   "metadata": {},
   "outputs": [],
   "source": [
    "# Recategorising Mental_Health_Status and Physical_Health_Issues\n",
    "\n",
    "df_clean[\"Mental_Health_Issues_Binary\"] = df_clean[\"Mental_Health_Status\"].apply(has_mental_health_concerns)\n",
    "df_clean[\"Physical_Health_Issues_Binary\"] = df_clean[\"Physical_Health_Issues\"].apply(\n",
    "    lambda x: 0 if pd.isna(x) or x == \"none\" else 1\n",
    ")\n",
    "\n",
    "df_clean[\"Mental_Health_Issues_Binary\"] = df_clean[\"Mental_Health_Issues_Binary\"].astype(\"category\")\n",
    "df_clean[\"Physical_Health_Issues_Binary\"] = df_clean[\"Physical_Health_Issues_Binary\"].astype(\"category\")"
   ]
  },
  {
   "cell_type": "markdown",
   "id": "38a3aa65",
   "metadata": {},
   "source": [
    "No furthur cleaning was performed in the `Mental_Health_Status` and `Physical_Health_Issues` columns due to the wide variability in free-text responses. Instead, two new columns with binary values were created: `Mental_Health_Issues_Binary` and `Physical_Health_Issues_Binary`. \n",
    "\n",
    "**Mental_Health_Issues_Binary**: Entries mentioning poor mental health or presenting mental health diagnoses were assigned the value 1, which indicate the presence of mental health concerns. On the other hand, responses that stated fairly good to good mental health were assigned the value 0 to show the absence of mental health issues. 0 was also assigned to null responses on the assumption that they have no medical diagnosis or no reported mental health issues.\n",
    "\n",
    "**Physical_Health_Issues_Binary**: Entries that mention at least one physical health issue were assigned the value of 1 whereas entries labelled \"none\" or left blank were assigned the value of 0 to indicate no reported physical health issues."
   ]
  },
  {
   "cell_type": "code",
   "execution_count": 67,
   "id": "65217fbe",
   "metadata": {},
   "outputs": [],
   "source": [
    "#df_clean[\"Region\"].unique()\n",
    "#df_clean[\"Industry\"].unique()\n",
    "#df_clean[\"Job_Role\"].unique()\n",
    "\n",
    "df_clean[\"Region\"] = df_clean[\"Region\"].astype(\"category\")\n",
    "df_clean[\"Industry\"] = df_clean[\"Industry\"].astype(\"string\")\n",
    "df_clean[\"Job_Role\"] = df_clean[\"Industry\"].astype(\"string\")"
   ]
  },
  {
   "cell_type": "markdown",
   "id": "99330686",
   "metadata": {},
   "source": [
    "No additional cleaning was required for these columns (`Region`, `Industry`, `Job_Role`) after implementing consistent formatting and capitalisation, which segregated the values in each of these columns into distinct categories with no duplicates or inconsistencies."
   ]
  },
  {
   "cell_type": "markdown",
   "id": "b068121c",
   "metadata": {},
   "source": [
    "### Addressing Missing Values"
   ]
  },
  {
   "cell_type": "code",
   "execution_count": 68,
   "id": "2e6ce8e0",
   "metadata": {},
   "outputs": [
    {
     "name": "stdout",
     "output_type": "stream",
     "text": [
      "                               Missing Values  Missing Proportion\n",
      "Work_Life_Balance_Score                  1826           35.587605\n",
      "Mental_Health_Status                     1453           28.318067\n",
      "Social_Isolation_Score                   1173           22.861041\n",
      "Physical_Health_Issues                    753           14.675502\n",
      "Hours_Per_Week                            337            6.567920\n",
      "Age                                       299            5.827324\n",
      "Burnout_Level                             254            4.950302\n",
      "Survey_Date                                 0            0.000000\n",
      "Gender                                      0            0.000000\n",
      "Region                                      0            0.000000\n",
      "Industry                                    0            0.000000\n",
      "Job_Role                                    0            0.000000\n",
      "Work_Arrangement                            0            0.000000\n",
      "Salary_Range                                0            0.000000\n",
      "Mental_Health_Issues_Binary                 0            0.000000\n",
      "Physical_Health_Issues_Binary               0            0.000000\n"
     ]
    }
   ],
   "source": [
    "missing_values = pd.DataFrame({\n",
    "    \"Missing Values\": df_clean.isnull().sum(),\n",
    "    \"Missing Proportion\": df_clean.isnull().sum() / len(df_clean) * 100\n",
    "}).sort_values(\"Missing Proportion\", ascending= False)\n",
    "\n",
    "print(missing_values)"
   ]
  },
  {
   "cell_type": "code",
   "execution_count": null,
   "id": "ae1d6dcc",
   "metadata": {},
   "outputs": [
    {
     "name": "stdout",
     "output_type": "stream",
     "text": [
      "No valid data found in groupby combination. Applied overall median as fallback for Work_Life_Balance_Score (12 records, 0.25 %)\n"
     ]
    },
    {
     "name": "stderr",
     "output_type": "stream",
     "text": [
      "/Users/nathan/remote-work-health-analysis/venv/lib/python3.12/site-packages/numpy/lib/_nanfunctions_impl.py:1214: RuntimeWarning: Mean of empty slice\n",
      "  return np.nanmean(a, axis, out=out, keepdims=keepdims)\n",
      "/Users/nathan/remote-work-health-analysis/venv/lib/python3.12/site-packages/numpy/lib/_nanfunctions_impl.py:1214: RuntimeWarning: Mean of empty slice\n",
      "  return np.nanmean(a, axis, out=out, keepdims=keepdims)\n",
      "/Users/nathan/remote-work-health-analysis/venv/lib/python3.12/site-packages/numpy/lib/_nanfunctions_impl.py:1214: RuntimeWarning: Mean of empty slice\n",
      "  return np.nanmean(a, axis, out=out, keepdims=keepdims)\n",
      "/Users/nathan/remote-work-health-analysis/venv/lib/python3.12/site-packages/numpy/lib/_nanfunctions_impl.py:1214: RuntimeWarning: Mean of empty slice\n",
      "  return np.nanmean(a, axis, out=out, keepdims=keepdims)\n",
      "/Users/nathan/remote-work-health-analysis/venv/lib/python3.12/site-packages/numpy/lib/_nanfunctions_impl.py:1214: RuntimeWarning: Mean of empty slice\n",
      "  return np.nanmean(a, axis, out=out, keepdims=keepdims)\n",
      "/Users/nathan/remote-work-health-analysis/venv/lib/python3.12/site-packages/numpy/lib/_nanfunctions_impl.py:1214: RuntimeWarning: Mean of empty slice\n",
      "  return np.nanmean(a, axis, out=out, keepdims=keepdims)\n"
     ]
    }
   ],
   "source": [
    "# Dropping Missing Values\n",
    "df_clean = df_clean.dropna(subset= [\"Burnout_Level\"])\n",
    "\n",
    "# Imputing Missing Values\n",
    "impute_by_grouped_median(df_clean, \"Age\", \"Job_Role\", \"Industry\")\n",
    "impute_by_grouped_median(df_clean, \"Hours_Per_Week\", \"Job_Role\", \"Work_Arrangement\")\n",
    "impute_by_grouped_median(df_clean, \"Social_Isolation_Score\", \"Work_Arrangement\", \"Mental_Health_Issues_Binary\")\n",
    "impute_by_grouped_median(df_clean, \"Work_Life_Balance_Score\", \"Work_Arrangement\", \"Industry\")"
   ]
  },
  {
   "cell_type": "markdown",
   "id": "b931903c",
   "metadata": {},
   "source": [
    "The missing values in these columns were addressed using different strategies based on the nature of each variable and the proportion of missing data:\n",
    "\n",
    "**Burnout_Level**: Missing values were dropped as they accounted for less than 5% of the values in the dataset (4.95%). Given the low proportion of missing data, deletion of these values were appropriate to maintain data integrity without significant reduction in sample size \n",
    "\n",
    "**Age**: Missing values were imputed using median values grouped by `Job_Role` and `Industry`. This approach leverages the fact that different roles within specific industries tend to attract workers of similar age demographics.\n",
    "\n",
    "**Hours_Per_Week**: Missing values were imputed using median values grouped by `Job_Role` and `Work_Arrangement`, as working hours differ significantly between different job positions and whether they work remotely or in-office.\n",
    "\n",
    "**Social_Isolation_Score**: Missing values were imputed using median values grouped by `Work_Arrangement` and `Mental_Health_Issues_Binary`, given that work arrangements influences human interactions and the state of one's mental health which would influence feelings of social isolation to varying degrees.\n",
    "\n",
    "**Work_Life_Balance_Score**: Missing values were imputed using median values grouped by `Work_Arrangement` and `Industry`, as work-life balance expectations and practises would vary considerably across different industries and work arrangements. \n",
    "\n",
    "**Mental_Health_Issues** & **Physical_Health_Issues**: Missing values will not be dropped nor imputed due to the wide variability of free-text response. Instead, their responses or lack of response would be assigned a Binary value in the `Mental_Health_Issues_Binary` and `Physical_Health_Issues_Binary` respectively.\n",
    "\n",
    "For grouped imputation methods, when specific group combinations do not have any valid data and a median value is unable to be obtained, missing values for that group combination would be filled with the column's overall median value as a fallback strategy. For instance, in the `Work_Life_Balance_Score` column, there were a total of 12 records with no valid values for certain `Work_Arrangement` and `Industry` combinations. These values were filled with the median value of the `Work_Life_Balance_Score`, which would unlikely cause any bias in the analysis as they only account for 0.25% of the entire dataset."
   ]
  }
 ],
 "metadata": {
  "kernelspec": {
   "display_name": "venv",
   "language": "python",
   "name": "python3"
  },
  "language_info": {
   "codemirror_mode": {
    "name": "ipython",
    "version": 3
   },
   "file_extension": ".py",
   "mimetype": "text/x-python",
   "name": "python",
   "nbconvert_exporter": "python",
   "pygments_lexer": "ipython3",
   "version": "3.12.4"
  }
 },
 "nbformat": 4,
 "nbformat_minor": 5
}
